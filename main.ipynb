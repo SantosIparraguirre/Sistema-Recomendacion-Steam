{
 "cells": [
  {
   "cell_type": "code",
   "execution_count": 31,
   "metadata": {},
   "outputs": [],
   "source": [
    "import pandas as pd"
   ]
  },
  {
   "cell_type": "code",
   "execution_count": 44,
   "metadata": {},
   "outputs": [],
   "source": [
    "def developer(desarrollador):\n",
    "\n",
    "    df = pd.read_parquet('./Datasets/developer_endpoint.parquet')\n",
    "    df = df[df['developer'] == desarrollador]\n",
    "    df['Año'] = df['release_date'].dt.year\n",
    "    df_year = df.groupby('Año').size().reset_index(name='Cantidad de Items')\n",
    "    df_free = df.groupby('Año')['free'].sum().reset_index(name='free')\n",
    "    df = pd.merge(df_year, df_free, on='Año')\n",
    "    df['Contenido Free'] = df['free'] / df['Cantidad de Items'] * 100\n",
    "    df.drop(columns=['free'], inplace=True)\n",
    "    df = df.to_dict('records')\n",
    "    return df"
   ]
  },
  {
   "cell_type": "code",
   "execution_count": 45,
   "metadata": {},
   "outputs": [
    {
     "data": {
      "text/plain": [
       "[{'Año': 1998, 'Cantidad de Items': 1, 'Contenido Free': 0.0},\n",
       " {'Año': 1999, 'Cantidad de Items': 1, 'Contenido Free': 0.0},\n",
       " {'Año': 2000, 'Cantidad de Items': 2, 'Contenido Free': 0.0},\n",
       " {'Año': 2001, 'Cantidad de Items': 1, 'Contenido Free': 0.0},\n",
       " {'Año': 2003, 'Cantidad de Items': 1, 'Contenido Free': 0.0},\n",
       " {'Año': 2004, 'Cantidad de Items': 5, 'Contenido Free': 0.0},\n",
       " {'Año': 2006, 'Cantidad de Items': 2, 'Contenido Free': 0.0},\n",
       " {'Año': 2007, 'Cantidad de Items': 3, 'Contenido Free': 33.33333333333333},\n",
       " {'Año': 2008, 'Cantidad de Items': 1, 'Contenido Free': 0.0},\n",
       " {'Año': 2009, 'Cantidad de Items': 1, 'Contenido Free': 0.0},\n",
       " {'Año': 2010, 'Cantidad de Items': 2, 'Contenido Free': 50.0},\n",
       " {'Año': 2011, 'Cantidad de Items': 1, 'Contenido Free': 0.0},\n",
       " {'Año': 2012, 'Cantidad de Items': 1, 'Contenido Free': 0.0},\n",
       " {'Año': 2016, 'Cantidad de Items': 1, 'Contenido Free': 100.0},\n",
       " {'Año': 2017, 'Cantidad de Items': 2, 'Contenido Free': 0.0}]"
      ]
     },
     "execution_count": 45,
     "metadata": {},
     "output_type": "execute_result"
    }
   ],
   "source": [
    "developer('Valve')"
   ]
  }
 ],
 "metadata": {
  "kernelspec": {
   "display_name": "Python 3",
   "language": "python",
   "name": "python3"
  },
  "language_info": {
   "codemirror_mode": {
    "name": "ipython",
    "version": 3
   },
   "file_extension": ".py",
   "mimetype": "text/x-python",
   "name": "python",
   "nbconvert_exporter": "python",
   "pygments_lexer": "ipython3",
   "version": "3.11.8"
  }
 },
 "nbformat": 4,
 "nbformat_minor": 2
}
