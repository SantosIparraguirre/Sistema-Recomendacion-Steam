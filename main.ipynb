{
 "cells": [
  {
   "cell_type": "code",
   "execution_count": 1,
   "metadata": {},
   "outputs": [],
   "source": [
    "import pandas as pd\n",
    "from sklearn.feature_extraction.text import TfidfVectorizer\n",
    "from sklearn.metrics.pairwise import cosine_similarity"
   ]
  },
  {
   "cell_type": "code",
   "execution_count": 2,
   "metadata": {},
   "outputs": [],
   "source": [
    "def developer(developer):\n",
    "    df = pd.read_parquet('./Datasets/developer_endpoint.parquet')\n",
    "    # Filtramos por el desarrollador ingresado.\n",
    "    df = df[df['developer'] == developer]\n",
    "    # Creamos la columna año en base a la columna release_date.\n",
    "    df['Año'] = df['release_date'].dt.year\n",
    "    # Agrupamos por año y contamos la cantidad de items.\n",
    "    df_year = df.groupby('Año').size().reset_index(name='Cantidad de Items')\n",
    "    # Agrupamos por año y sumamos la cantidad de items free.\n",
    "    df_free = df.groupby('Año')['free'].sum().reset_index(name='free')\n",
    "    # Hacemos un merge de ambos dataframes mediante la columna Año.\n",
    "    df = pd.merge(df_year, df_free, on='Año')\n",
    "    # Calculamos el porcentaje de contenido free.\n",
    "    df['Contenido Free'] = round(df['free'] / df['Cantidad de Items'] * 100, 2)\n",
    "    # Convertimos el porcentaje a string y le agregamos el símbolo %.\n",
    "    df['Contenido Free'] = df['Contenido Free'].apply(lambda x: f'{x}%')\n",
    "    # Eliminamos la columna free.\n",
    "    df.drop(columns=['free'], inplace=True)\n",
    "    # Convertimos el dataframe a un diccionario.\n",
    "    df = df.to_dict('records')\n",
    "    # Devolvemos el resultado.\n",
    "    return df"
   ]
  },
  {
   "cell_type": "code",
   "execution_count": 3,
   "metadata": {},
   "outputs": [
    {
     "data": {
      "text/plain": [
       "[{'Año': 1998, 'Cantidad de Items': 1, 'Contenido Free': '0.0%'},\n",
       " {'Año': 1999, 'Cantidad de Items': 1, 'Contenido Free': '0.0%'},\n",
       " {'Año': 2000, 'Cantidad de Items': 2, 'Contenido Free': '0.0%'},\n",
       " {'Año': 2001, 'Cantidad de Items': 1, 'Contenido Free': '0.0%'},\n",
       " {'Año': 2003, 'Cantidad de Items': 1, 'Contenido Free': '0.0%'},\n",
       " {'Año': 2004, 'Cantidad de Items': 5, 'Contenido Free': '0.0%'},\n",
       " {'Año': 2006, 'Cantidad de Items': 2, 'Contenido Free': '0.0%'},\n",
       " {'Año': 2007, 'Cantidad de Items': 3, 'Contenido Free': '33.33%'},\n",
       " {'Año': 2008, 'Cantidad de Items': 1, 'Contenido Free': '0.0%'},\n",
       " {'Año': 2009, 'Cantidad de Items': 1, 'Contenido Free': '0.0%'},\n",
       " {'Año': 2010, 'Cantidad de Items': 2, 'Contenido Free': '50.0%'},\n",
       " {'Año': 2011, 'Cantidad de Items': 1, 'Contenido Free': '0.0%'},\n",
       " {'Año': 2012, 'Cantidad de Items': 1, 'Contenido Free': '0.0%'},\n",
       " {'Año': 2016, 'Cantidad de Items': 1, 'Contenido Free': '100.0%'},\n",
       " {'Año': 2017, 'Cantidad de Items': 2, 'Contenido Free': '0.0%'}]"
      ]
     },
     "execution_count": 3,
     "metadata": {},
     "output_type": "execute_result"
    }
   ],
   "source": [
    "developer('Valve')"
   ]
  },
  {
   "cell_type": "code",
   "execution_count": 33,
   "metadata": {},
   "outputs": [
    {
     "data": {
      "text/html": [
       "<div>\n",
       "<style scoped>\n",
       "    .dataframe tbody tr th:only-of-type {\n",
       "        vertical-align: middle;\n",
       "    }\n",
       "\n",
       "    .dataframe tbody tr th {\n",
       "        vertical-align: top;\n",
       "    }\n",
       "\n",
       "    .dataframe thead th {\n",
       "        text-align: right;\n",
       "    }\n",
       "</style>\n",
       "<table border=\"1\" class=\"dataframe\">\n",
       "  <thead>\n",
       "    <tr style=\"text-align: right;\">\n",
       "      <th></th>\n",
       "      <th>item_id</th>\n",
       "      <th>title</th>\n",
       "      <th>features</th>\n",
       "    </tr>\n",
       "  </thead>\n",
       "  <tbody>\n",
       "    <tr>\n",
       "      <th>0</th>\n",
       "      <td>442050</td>\n",
       "      <td>Just Cause™ 3 DLC: Kousavá Rifle</td>\n",
       "      <td>Action, Adventure</td>\n",
       "    </tr>\n",
       "    <tr>\n",
       "      <th>1</th>\n",
       "      <td>339386</td>\n",
       "      <td>X-Plane 10 AddOn - Carenado - PA46 Malibu Mira...</td>\n",
       "      <td>Simulation</td>\n",
       "    </tr>\n",
       "    <tr>\n",
       "      <th>2</th>\n",
       "      <td>436160</td>\n",
       "      <td>The Panic Room</td>\n",
       "      <td>Free to Play, Hidden Object</td>\n",
       "    </tr>\n",
       "    <tr>\n",
       "      <th>3</th>\n",
       "      <td>710040</td>\n",
       "      <td>Fantasy Grounds - Feats of Legend: 20 Story Fe...</td>\n",
       "      <td>Indie, RPG, Strategy</td>\n",
       "    </tr>\n",
       "    <tr>\n",
       "      <th>4</th>\n",
       "      <td>506971</td>\n",
       "      <td>DARK SOULS™ III - The Ringed City™</td>\n",
       "      <td>Action, Action RPG, Adventure, Atmospheric, Ch...</td>\n",
       "    </tr>\n",
       "    <tr>\n",
       "      <th>...</th>\n",
       "      <td>...</td>\n",
       "      <td>...</td>\n",
       "      <td>...</td>\n",
       "    </tr>\n",
       "    <tr>\n",
       "      <th>9995</th>\n",
       "      <td>538070</td>\n",
       "      <td>Bad Dream: Coma</td>\n",
       "      <td>Adventure, Atmospheric, Gore, Hand-drawn, Horr...</td>\n",
       "    </tr>\n",
       "    <tr>\n",
       "      <th>9996</th>\n",
       "      <td>468733</td>\n",
       "      <td>Tabletop Simulator - Viticulture</td>\n",
       "      <td>Casual, Indie, RPG, Simulation, Strategy</td>\n",
       "    </tr>\n",
       "    <tr>\n",
       "      <th>9997</th>\n",
       "      <td>715290</td>\n",
       "      <td>SEGFAULT</td>\n",
       "      <td>Action, Adventure, Indie</td>\n",
       "    </tr>\n",
       "    <tr>\n",
       "      <th>9998</th>\n",
       "      <td>436140</td>\n",
       "      <td>Empire of the Gods</td>\n",
       "      <td>Card Game, Casual, Indie, Strategy</td>\n",
       "    </tr>\n",
       "    <tr>\n",
       "      <th>9999</th>\n",
       "      <td>113204</td>\n",
       "      <td>Binding of Isaac: Wrath of the Lamb</td>\n",
       "      <td>2D, Action, Adventure, Dark, Difficult, Dungeo...</td>\n",
       "    </tr>\n",
       "  </tbody>\n",
       "</table>\n",
       "<p>10000 rows × 3 columns</p>\n",
       "</div>"
      ],
      "text/plain": [
       "     item_id                                              title  \\\n",
       "0     442050                   Just Cause™ 3 DLC: Kousavá Rifle   \n",
       "1     339386  X-Plane 10 AddOn - Carenado - PA46 Malibu Mira...   \n",
       "2     436160                                     The Panic Room   \n",
       "3     710040  Fantasy Grounds - Feats of Legend: 20 Story Fe...   \n",
       "4     506971                 DARK SOULS™ III - The Ringed City™   \n",
       "...      ...                                                ...   \n",
       "9995  538070                                    Bad Dream: Coma   \n",
       "9996  468733                   Tabletop Simulator - Viticulture   \n",
       "9997  715290                                           SEGFAULT   \n",
       "9998  436140                                 Empire of the Gods   \n",
       "9999  113204                Binding of Isaac: Wrath of the Lamb   \n",
       "\n",
       "                                               features  \n",
       "0                                     Action, Adventure  \n",
       "1                                            Simulation  \n",
       "2                           Free to Play, Hidden Object  \n",
       "3                                  Indie, RPG, Strategy  \n",
       "4     Action, Action RPG, Adventure, Atmospheric, Ch...  \n",
       "...                                                 ...  \n",
       "9995  Adventure, Atmospheric, Gore, Hand-drawn, Horr...  \n",
       "9996           Casual, Indie, RPG, Simulation, Strategy  \n",
       "9997                           Action, Adventure, Indie  \n",
       "9998                 Card Game, Casual, Indie, Strategy  \n",
       "9999  2D, Action, Adventure, Dark, Difficult, Dungeo...  \n",
       "\n",
       "[10000 rows x 3 columns]"
      ]
     },
     "execution_count": 33,
     "metadata": {},
     "output_type": "execute_result"
    }
   ],
   "source": [
    "df = pd.read_parquet('./Datasets/game_recommendation.parquet')\n",
    "df"
   ]
  },
  {
   "cell_type": "code",
   "execution_count": 34,
   "metadata": {},
   "outputs": [],
   "source": [
    "def game_recommendation(item_id):\n",
    "    item_id = str(item_id)\n",
    "    df = pd.read_parquet('./Datasets/game_recommendation.parquet')\n",
    "    if item_id not in df['item_id'].values:\n",
    "        return 'ID no encontrado'\n",
    "    tfidf = TfidfVectorizer(stop_words='english')\n",
    "    tfidf_matrix = tfidf.fit_transform(df['features'])\n",
    "    cosine_sim = cosine_similarity(tfidf_matrix)\n",
    "    idx = df[df['item_id'] == item_id].index[0]\n",
    "    sim_scores = list(enumerate(cosine_sim[idx]))\n",
    "    sim_scores = sorted(sim_scores, key=lambda x: x[1], reverse=True)\n",
    "    sim_scores = sim_scores[1:6]\n",
    "    recommended_games = df['title'].iloc[[i[0] for i in sim_scores]].tolist()\n",
    "    return {\"recommended_games\": recommended_games}"
   ]
  },
  {
   "cell_type": "code",
   "execution_count": 35,
   "metadata": {},
   "outputs": [
    {
     "data": {
      "text/plain": [
       "{'recommended_games': ['Umbrella Corps™/Biohazard Umbrella Corps™',\n",
       "  'Ravenfield',\n",
       "  'Verdun',\n",
       "  'Red Orchestra 2: Heroes of Stalingrad with Rising Storm',\n",
       "  \"Tom Clancy's Ghost Recon® Wildlands\"]}"
      ]
     },
     "execution_count": 35,
     "metadata": {},
     "output_type": "execute_result"
    }
   ],
   "source": [
    "game_recommendation(240)"
   ]
  }
 ],
 "metadata": {
  "kernelspec": {
   "display_name": "Python 3",
   "language": "python",
   "name": "python3"
  },
  "language_info": {
   "codemirror_mode": {
    "name": "ipython",
    "version": 3
   },
   "file_extension": ".py",
   "mimetype": "text/x-python",
   "name": "python",
   "nbconvert_exporter": "python",
   "pygments_lexer": "ipython3",
   "version": "3.11.8"
  }
 },
 "nbformat": 4,
 "nbformat_minor": 2
}
