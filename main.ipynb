{
 "cells": [
  {
   "cell_type": "code",
   "execution_count": 47,
   "metadata": {},
   "outputs": [],
   "source": [
    "import pandas as pd\n",
    "from sklearn.feature_extraction.text import TfidfVectorizer\n",
    "from sklearn.metrics.pairwise import cosine_similarity"
   ]
  },
  {
   "cell_type": "code",
   "execution_count": 48,
   "metadata": {},
   "outputs": [],
   "source": [
    "def developer(desarrollador):\n",
    "\n",
    "    df = pd.read_parquet('./Datasets/developer_endpoint.parquet')\n",
    "    df = df[df['developer'] == desarrollador]\n",
    "    df['Año'] = df['release_date'].dt.year\n",
    "    df_year = df.groupby('Año').size().reset_index(name='Cantidad de Items')\n",
    "    df_free = df.groupby('Año')['free'].sum().reset_index(name='free')\n",
    "    df = pd.merge(df_year, df_free, on='Año')\n",
    "    df['Contenido Free'] = df['free'] / df['Cantidad de Items'] * 100\n",
    "    df.drop(columns=['free'], inplace=True)\n",
    "    df = df.to_dict('records')\n",
    "    return df"
   ]
  },
  {
   "cell_type": "code",
   "execution_count": 49,
   "metadata": {},
   "outputs": [
    {
     "data": {
      "text/plain": [
       "[{'Año': 1998, 'Cantidad de Items': 1, 'Contenido Free': 0.0},\n",
       " {'Año': 1999, 'Cantidad de Items': 1, 'Contenido Free': 0.0},\n",
       " {'Año': 2000, 'Cantidad de Items': 2, 'Contenido Free': 0.0},\n",
       " {'Año': 2001, 'Cantidad de Items': 1, 'Contenido Free': 0.0},\n",
       " {'Año': 2003, 'Cantidad de Items': 1, 'Contenido Free': 0.0},\n",
       " {'Año': 2004, 'Cantidad de Items': 5, 'Contenido Free': 0.0},\n",
       " {'Año': 2006, 'Cantidad de Items': 2, 'Contenido Free': 0.0},\n",
       " {'Año': 2007, 'Cantidad de Items': 3, 'Contenido Free': 33.33333333333333},\n",
       " {'Año': 2008, 'Cantidad de Items': 1, 'Contenido Free': 0.0},\n",
       " {'Año': 2009, 'Cantidad de Items': 1, 'Contenido Free': 0.0},\n",
       " {'Año': 2010, 'Cantidad de Items': 2, 'Contenido Free': 50.0},\n",
       " {'Año': 2011, 'Cantidad de Items': 1, 'Contenido Free': 0.0},\n",
       " {'Año': 2012, 'Cantidad de Items': 1, 'Contenido Free': 0.0},\n",
       " {'Año': 2016, 'Cantidad de Items': 1, 'Contenido Free': 100.0},\n",
       " {'Año': 2017, 'Cantidad de Items': 2, 'Contenido Free': 0.0}]"
      ]
     },
     "execution_count": 49,
     "metadata": {},
     "output_type": "execute_result"
    }
   ],
   "source": [
    "developer('Valve')"
   ]
  },
  {
   "cell_type": "code",
   "execution_count": 64,
   "metadata": {},
   "outputs": [],
   "source": [
    "def game_recommendation(item_id):\n",
    "    item_id = str(item_id)\n",
    "    df = pd.read_parquet('./Datasets/game_recommendation.parquet')\n",
    "    tfidf = TfidfVectorizer(stop_words='english')\n",
    "    tfidf_matrix = tfidf.fit_transform(df['features'])\n",
    "    cosine_sim = cosine_similarity(tfidf_matrix, tfidf_matrix)\n",
    "    if item_id not in df['item_id'].values:\n",
    "        return 'ID no encontrado'\n",
    "    idx = df[df['item_id'] == item_id].index[0]\n",
    "    sim_scores = list(enumerate(cosine_sim[idx]))\n",
    "    sim_scores = sorted(sim_scores, key=lambda x: x[1], reverse=True)\n",
    "    sim_scores = sim_scores[1:6]\n",
    "    recommended_games = df['title'].iloc[[i[0] for i in sim_scores]].tolist()\n",
    "    return {\"recommended_games\": recommended_games}"
   ]
  },
  {
   "cell_type": "code",
   "execution_count": 65,
   "metadata": {},
   "outputs": [
    {
     "data": {
      "text/plain": [
       "{'recommended_games': ['Insurgency',\n",
       "  'Counter-Strike: Source',\n",
       "  'Arma 3',\n",
       "  'TankZone Battle',\n",
       "  'Arma 2: Operation Arrowhead']}"
      ]
     },
     "execution_count": 65,
     "metadata": {},
     "output_type": "execute_result"
    }
   ],
   "source": [
    "game_recommendation(730)"
   ]
  }
 ],
 "metadata": {
  "kernelspec": {
   "display_name": "Python 3",
   "language": "python",
   "name": "python3"
  },
  "language_info": {
   "codemirror_mode": {
    "name": "ipython",
    "version": 3
   },
   "file_extension": ".py",
   "mimetype": "text/x-python",
   "name": "python",
   "nbconvert_exporter": "python",
   "pygments_lexer": "ipython3",
   "version": "3.11.8"
  }
 },
 "nbformat": 4,
 "nbformat_minor": 2
}
