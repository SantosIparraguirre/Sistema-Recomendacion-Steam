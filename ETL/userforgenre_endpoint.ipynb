{
 "cells": [
  {
   "cell_type": "code",
   "execution_count": 1,
   "metadata": {},
   "outputs": [],
   "source": [
    "import pandas as pd"
   ]
  },
  {
   "cell_type": "code",
   "execution_count": 4,
   "metadata": {},
   "outputs": [],
   "source": [
    "df_games = pd.read_parquet('../Datasets/steam_games_preprocessed.parquet')\n",
    "df_user_items = pd.read_parquet('../Datasets/users_items_preprocessed.parquet')"
   ]
  },
  {
   "cell_type": "code",
   "execution_count": 5,
   "metadata": {},
   "outputs": [],
   "source": [
    "df_games = df_games.rename(columns={'title': 'item_name'})\n",
    "df_merged = pd.merge(df_user_items, df_games[['item_name', 'release_date', 'genres']], on='item_name')"
   ]
  },
  {
   "cell_type": "code",
   "execution_count": 6,
   "metadata": {},
   "outputs": [
    {
     "data": {
      "text/html": [
       "<div>\n",
       "<style scoped>\n",
       "    .dataframe tbody tr th:only-of-type {\n",
       "        vertical-align: middle;\n",
       "    }\n",
       "\n",
       "    .dataframe tbody tr th {\n",
       "        vertical-align: top;\n",
       "    }\n",
       "\n",
       "    .dataframe thead th {\n",
       "        text-align: right;\n",
       "    }\n",
       "</style>\n",
       "<table border=\"1\" class=\"dataframe\">\n",
       "  <thead>\n",
       "    <tr style=\"text-align: right;\">\n",
       "      <th></th>\n",
       "      <th>item_name</th>\n",
       "      <th>playtime_forever</th>\n",
       "      <th>user_id</th>\n",
       "      <th>items_count</th>\n",
       "      <th>release_date</th>\n",
       "      <th>genres</th>\n",
       "    </tr>\n",
       "  </thead>\n",
       "  <tbody>\n",
       "    <tr>\n",
       "      <th>0</th>\n",
       "      <td>Counter-Strike</td>\n",
       "      <td>6</td>\n",
       "      <td>76561197970982479</td>\n",
       "      <td>277</td>\n",
       "      <td>2000-11-01</td>\n",
       "      <td>Action</td>\n",
       "    </tr>\n",
       "    <tr>\n",
       "      <th>1</th>\n",
       "      <td>Team Fortress Classic</td>\n",
       "      <td>0</td>\n",
       "      <td>76561197970982479</td>\n",
       "      <td>277</td>\n",
       "      <td>1999-04-01</td>\n",
       "      <td>Action</td>\n",
       "    </tr>\n",
       "    <tr>\n",
       "      <th>2</th>\n",
       "      <td>Day of Defeat</td>\n",
       "      <td>7</td>\n",
       "      <td>76561197970982479</td>\n",
       "      <td>277</td>\n",
       "      <td>2003-05-01</td>\n",
       "      <td>Action</td>\n",
       "    </tr>\n",
       "    <tr>\n",
       "      <th>3</th>\n",
       "      <td>Deathmatch Classic</td>\n",
       "      <td>0</td>\n",
       "      <td>76561197970982479</td>\n",
       "      <td>277</td>\n",
       "      <td>2001-06-01</td>\n",
       "      <td>Action</td>\n",
       "    </tr>\n",
       "    <tr>\n",
       "      <th>4</th>\n",
       "      <td>Half-Life: Opposing Force</td>\n",
       "      <td>0</td>\n",
       "      <td>76561197970982479</td>\n",
       "      <td>277</td>\n",
       "      <td>1999-11-01</td>\n",
       "      <td>Action</td>\n",
       "    </tr>\n",
       "  </tbody>\n",
       "</table>\n",
       "</div>"
      ],
      "text/plain": [
       "                   item_name  playtime_forever            user_id  \\\n",
       "0             Counter-Strike                 6  76561197970982479   \n",
       "1      Team Fortress Classic                 0  76561197970982479   \n",
       "2              Day of Defeat                 7  76561197970982479   \n",
       "3         Deathmatch Classic                 0  76561197970982479   \n",
       "4  Half-Life: Opposing Force                 0  76561197970982479   \n",
       "\n",
       "   items_count release_date  genres  \n",
       "0          277   2000-11-01  Action  \n",
       "1          277   1999-04-01  Action  \n",
       "2          277   2003-05-01  Action  \n",
       "3          277   2001-06-01  Action  \n",
       "4          277   1999-11-01  Action  "
      ]
     },
     "execution_count": 6,
     "metadata": {},
     "output_type": "execute_result"
    }
   ],
   "source": [
    "df_merged.head()"
   ]
  },
  {
   "cell_type": "code",
   "execution_count": 7,
   "metadata": {},
   "outputs": [],
   "source": [
    "df_merged.to_parquet('../Datasets/userforgenre_endpoint.parquet', compression='snappy', index=False)"
   ]
  },
  {
   "cell_type": "code",
   "execution_count": 10,
   "metadata": {},
   "outputs": [],
   "source": [
    "def UserForGenre(genero: str):\n",
    "    # Cargar el dataset combinado\n",
    "    df = pd.read_parquet('../Datasets/userforgenre_endpoint.parquet')\n",
    "    \n",
    "    # Filtrar por género\n",
    "    df = df[df['genres'].str.contains(genero, case=False, na=False)]\n",
    "    \n",
    "    # Agrupar por usuario y sumar las horas jugadas\n",
    "    user_hours = df.groupby('user_id')['playtime_forever'].sum().reset_index()\n",
    "    \n",
    "    # Encontrar el usuario con más horas jugadas\n",
    "    top_user = user_hours.loc[user_hours['playtime_forever'].idxmax()]\n",
    "    top_user_id = top_user['user_id']\n",
    "    \n",
    "    # Filtrar por el usuario con más horas jugadas\n",
    "    top_user_df = df[df['user_id'] == top_user_id]\n",
    "    \n",
    "    # Agrupar las horas jugadas por año de lanzamiento\n",
    "    top_user_df['year'] = top_user_df['release_date'].dt.year\n",
    "    hours_by_year = top_user_df.groupby('year')['playtime_forever'].sum().reset_index()\n",
    "    \n",
    "    # Formatear el resultado\n",
    "    hours_by_year_list = hours_by_year.to_dict(orient='records')\n",
    "    \n",
    "    return {\n",
    "        f\"Usuario con más horas jugadas para el género {genero}\": top_user_id,\n",
    "        \"Horas jugadas\": hours_by_year_list\n",
    "    }\n"
   ]
  },
  {
   "cell_type": "code",
   "execution_count": 11,
   "metadata": {},
   "outputs": [
    {
     "name": "stderr",
     "output_type": "stream",
     "text": [
      "C:\\Users\\santo\\AppData\\Local\\Temp\\ipykernel_13168\\1371220967.py:19: SettingWithCopyWarning: \n",
      "A value is trying to be set on a copy of a slice from a DataFrame.\n",
      "Try using .loc[row_indexer,col_indexer] = value instead\n",
      "\n",
      "See the caveats in the documentation: https://pandas.pydata.org/pandas-docs/stable/user_guide/indexing.html#returning-a-view-versus-a-copy\n",
      "  top_user_df['year'] = top_user_df['release_date'].dt.year\n"
     ]
    },
    {
     "data": {
      "text/plain": [
       "{'Usuario con más horas jugadas para Género Action': 'REBAS_AS_F-T',\n",
       " 'Horas jugadas': [{'year': 1996, 'playtime_forever': 0},\n",
       "  {'year': 1998, 'playtime_forever': 1},\n",
       "  {'year': 1999, 'playtime_forever': 224},\n",
       "  {'year': 2000, 'playtime_forever': 0},\n",
       "  {'year': 2001, 'playtime_forever': 11},\n",
       "  {'year': 2002, 'playtime_forever': 1},\n",
       "  {'year': 2003, 'playtime_forever': 1863},\n",
       "  {'year': 2004, 'playtime_forever': 2115},\n",
       "  {'year': 2005, 'playtime_forever': 3293},\n",
       "  {'year': 2006, 'playtime_forever': 138},\n",
       "  {'year': 2007, 'playtime_forever': 375},\n",
       "  {'year': 2008, 'playtime_forever': 2573},\n",
       "  {'year': 2009, 'playtime_forever': 7926},\n",
       "  {'year': 2010, 'playtime_forever': 34522},\n",
       "  {'year': 2011, 'playtime_forever': 45249},\n",
       "  {'year': 2012, 'playtime_forever': 91435},\n",
       "  {'year': 2013, 'playtime_forever': 123592},\n",
       "  {'year': 2014, 'playtime_forever': 191272},\n",
       "  {'year': 2015, 'playtime_forever': 268357},\n",
       "  {'year': 2016, 'playtime_forever': 283906},\n",
       "  {'year': 2017, 'playtime_forever': 1990}]}"
      ]
     },
     "execution_count": 11,
     "metadata": {},
     "output_type": "execute_result"
    }
   ],
   "source": [
    "UserForGenre('Action')"
   ]
  }
 ],
 "metadata": {
  "kernelspec": {
   "display_name": "Python 3",
   "language": "python",
   "name": "python3"
  },
  "language_info": {
   "codemirror_mode": {
    "name": "ipython",
    "version": 3
   },
   "file_extension": ".py",
   "mimetype": "text/x-python",
   "name": "python",
   "nbconvert_exporter": "python",
   "pygments_lexer": "ipython3",
   "version": "3.11.8"
  }
 },
 "nbformat": 4,
 "nbformat_minor": 2
}
