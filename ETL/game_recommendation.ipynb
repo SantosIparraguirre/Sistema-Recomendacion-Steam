{
 "cells": [
  {
   "cell_type": "code",
   "execution_count": 1,
   "metadata": {},
   "outputs": [],
   "source": [
    "import pandas as pd"
   ]
  },
  {
   "cell_type": "code",
   "execution_count": 2,
   "metadata": {},
   "outputs": [],
   "source": [
    "df = pd.read_parquet('../Datasets/steam_games_preprocessed.parquet')"
   ]
  },
  {
   "cell_type": "code",
   "execution_count": 3,
   "metadata": {},
   "outputs": [
    {
     "data": {
      "text/html": [
       "<div>\n",
       "<style scoped>\n",
       "    .dataframe tbody tr th:only-of-type {\n",
       "        vertical-align: middle;\n",
       "    }\n",
       "\n",
       "    .dataframe tbody tr th {\n",
       "        vertical-align: top;\n",
       "    }\n",
       "\n",
       "    .dataframe thead th {\n",
       "        text-align: right;\n",
       "    }\n",
       "</style>\n",
       "<table border=\"1\" class=\"dataframe\">\n",
       "  <thead>\n",
       "    <tr style=\"text-align: right;\">\n",
       "      <th></th>\n",
       "      <th>item_id</th>\n",
       "      <th>title</th>\n",
       "      <th>developer</th>\n",
       "      <th>release_date</th>\n",
       "      <th>genres</th>\n",
       "      <th>tags</th>\n",
       "      <th>price</th>\n",
       "    </tr>\n",
       "  </thead>\n",
       "  <tbody>\n",
       "    <tr>\n",
       "      <th>0</th>\n",
       "      <td>761140</td>\n",
       "      <td>Lost Summoner Kitty</td>\n",
       "      <td>Kotoshiro</td>\n",
       "      <td>2018-01-04</td>\n",
       "      <td>Action, Casual, Indie, Simulation, Strategy</td>\n",
       "      <td>Strategy, Action, Indie, Casual, Simulation</td>\n",
       "      <td>4.99</td>\n",
       "    </tr>\n",
       "    <tr>\n",
       "      <th>1</th>\n",
       "      <td>643980</td>\n",
       "      <td>Ironbound</td>\n",
       "      <td>Secret Level SRL</td>\n",
       "      <td>2018-01-04</td>\n",
       "      <td>Free to Play, Indie, RPG, Strategy</td>\n",
       "      <td>Free to Play, Strategy, Indie, RPG, Card Game,...</td>\n",
       "      <td>0.00</td>\n",
       "    </tr>\n",
       "    <tr>\n",
       "      <th>2</th>\n",
       "      <td>670290</td>\n",
       "      <td>Real Pool 3D - Poolians</td>\n",
       "      <td>Poolians.com</td>\n",
       "      <td>2017-07-24</td>\n",
       "      <td>Casual, Free to Play, Indie, Simulation, Sports</td>\n",
       "      <td>Free to Play, Simulation, Sports, Casual, Indi...</td>\n",
       "      <td>0.00</td>\n",
       "    </tr>\n",
       "    <tr>\n",
       "      <th>3</th>\n",
       "      <td>767400</td>\n",
       "      <td>弹炸人2222</td>\n",
       "      <td>彼岸领域</td>\n",
       "      <td>2017-12-07</td>\n",
       "      <td>Action, Adventure, Casual</td>\n",
       "      <td>Action, Adventure, Casual</td>\n",
       "      <td>0.99</td>\n",
       "    </tr>\n",
       "    <tr>\n",
       "      <th>4</th>\n",
       "      <td>772540</td>\n",
       "      <td>Battle Royale Trainer</td>\n",
       "      <td>Trickjump Games Ltd</td>\n",
       "      <td>2018-01-04</td>\n",
       "      <td>Action, Adventure, Simulation</td>\n",
       "      <td>Action, Adventure, Simulation, FPS, Shooter, T...</td>\n",
       "      <td>3.99</td>\n",
       "    </tr>\n",
       "  </tbody>\n",
       "</table>\n",
       "</div>"
      ],
      "text/plain": [
       "  item_id                    title            developer release_date  \\\n",
       "0  761140      Lost Summoner Kitty            Kotoshiro   2018-01-04   \n",
       "1  643980                Ironbound     Secret Level SRL   2018-01-04   \n",
       "2  670290  Real Pool 3D - Poolians         Poolians.com   2017-07-24   \n",
       "3  767400                  弹炸人2222                 彼岸领域   2017-12-07   \n",
       "4  772540    Battle Royale Trainer  Trickjump Games Ltd   2018-01-04   \n",
       "\n",
       "                                            genres  \\\n",
       "0      Action, Casual, Indie, Simulation, Strategy   \n",
       "1               Free to Play, Indie, RPG, Strategy   \n",
       "2  Casual, Free to Play, Indie, Simulation, Sports   \n",
       "3                        Action, Adventure, Casual   \n",
       "4                    Action, Adventure, Simulation   \n",
       "\n",
       "                                                tags  price  \n",
       "0        Strategy, Action, Indie, Casual, Simulation   4.99  \n",
       "1  Free to Play, Strategy, Indie, RPG, Card Game,...   0.00  \n",
       "2  Free to Play, Simulation, Sports, Casual, Indi...   0.00  \n",
       "3                          Action, Adventure, Casual   0.99  \n",
       "4  Action, Adventure, Simulation, FPS, Shooter, T...   3.99  "
      ]
     },
     "execution_count": 3,
     "metadata": {},
     "output_type": "execute_result"
    }
   ],
   "source": [
    "df.head()"
   ]
  },
  {
   "cell_type": "code",
   "execution_count": 4,
   "metadata": {},
   "outputs": [],
   "source": [
    "# Columnas innecesarias\n",
    "df.drop(['price', 'release_date'], axis=1, inplace=True)"
   ]
  },
  {
   "cell_type": "code",
   "execution_count": 380,
   "metadata": {},
   "outputs": [
    {
     "data": {
      "text/html": [
       "<div>\n",
       "<style scoped>\n",
       "    .dataframe tbody tr th:only-of-type {\n",
       "        vertical-align: middle;\n",
       "    }\n",
       "\n",
       "    .dataframe tbody tr th {\n",
       "        vertical-align: top;\n",
       "    }\n",
       "\n",
       "    .dataframe thead th {\n",
       "        text-align: right;\n",
       "    }\n",
       "</style>\n",
       "<table border=\"1\" class=\"dataframe\">\n",
       "  <thead>\n",
       "    <tr style=\"text-align: right;\">\n",
       "      <th></th>\n",
       "      <th>item_id</th>\n",
       "      <th>title</th>\n",
       "      <th>developer</th>\n",
       "      <th>genres</th>\n",
       "      <th>tags</th>\n",
       "    </tr>\n",
       "  </thead>\n",
       "  <tbody>\n",
       "    <tr>\n",
       "      <th>0</th>\n",
       "      <td>761140</td>\n",
       "      <td>Lost Summoner Kitty</td>\n",
       "      <td>Kotoshiro</td>\n",
       "      <td>Action, Casual, Indie, Simulation, Strategy</td>\n",
       "      <td>Strategy, Action, Indie, Casual, Simulation</td>\n",
       "    </tr>\n",
       "    <tr>\n",
       "      <th>1</th>\n",
       "      <td>643980</td>\n",
       "      <td>Ironbound</td>\n",
       "      <td>Secret Level SRL</td>\n",
       "      <td>Free to Play, Indie, RPG, Strategy</td>\n",
       "      <td>Free to Play, Strategy, Indie, RPG, Card Game,...</td>\n",
       "    </tr>\n",
       "    <tr>\n",
       "      <th>2</th>\n",
       "      <td>670290</td>\n",
       "      <td>Real Pool 3D - Poolians</td>\n",
       "      <td>Poolians.com</td>\n",
       "      <td>Casual, Free to Play, Indie, Simulation, Sports</td>\n",
       "      <td>Free to Play, Simulation, Sports, Casual, Indi...</td>\n",
       "    </tr>\n",
       "    <tr>\n",
       "      <th>3</th>\n",
       "      <td>767400</td>\n",
       "      <td>弹炸人2222</td>\n",
       "      <td>彼岸领域</td>\n",
       "      <td>Action, Adventure, Casual</td>\n",
       "      <td>Action, Adventure, Casual</td>\n",
       "    </tr>\n",
       "    <tr>\n",
       "      <th>4</th>\n",
       "      <td>772540</td>\n",
       "      <td>Battle Royale Trainer</td>\n",
       "      <td>Trickjump Games Ltd</td>\n",
       "      <td>Action, Adventure, Simulation</td>\n",
       "      <td>Action, Adventure, Simulation, FPS, Shooter, T...</td>\n",
       "    </tr>\n",
       "    <tr>\n",
       "      <th>...</th>\n",
       "      <td>...</td>\n",
       "      <td>...</td>\n",
       "      <td>...</td>\n",
       "      <td>...</td>\n",
       "      <td>...</td>\n",
       "    </tr>\n",
       "    <tr>\n",
       "      <th>27405</th>\n",
       "      <td>745400</td>\n",
       "      <td>Kebab it Up!</td>\n",
       "      <td>Bidoniera Games</td>\n",
       "      <td>Action, Adventure, Casual, Indie</td>\n",
       "      <td>Action, Indie, Casual, Violent, Adventure</td>\n",
       "    </tr>\n",
       "    <tr>\n",
       "      <th>27406</th>\n",
       "      <td>773640</td>\n",
       "      <td>Colony On Mars</td>\n",
       "      <td>Nikita \"Ghost_RUS\"</td>\n",
       "      <td>Casual, Indie, Simulation, Strategy</td>\n",
       "      <td>Strategy, Indie, Casual, Simulation</td>\n",
       "    </tr>\n",
       "    <tr>\n",
       "      <th>27407</th>\n",
       "      <td>733530</td>\n",
       "      <td>LOGistICAL: South Africa</td>\n",
       "      <td>Sacada</td>\n",
       "      <td>Casual, Indie, Strategy</td>\n",
       "      <td>Strategy, Indie, Casual</td>\n",
       "    </tr>\n",
       "    <tr>\n",
       "      <th>27408</th>\n",
       "      <td>610660</td>\n",
       "      <td>Russian Roads</td>\n",
       "      <td>Laush Dmitriy Sergeevich</td>\n",
       "      <td>Indie, Racing, Simulation</td>\n",
       "      <td>Indie, Simulation, Racing</td>\n",
       "    </tr>\n",
       "    <tr>\n",
       "      <th>27409</th>\n",
       "      <td>658870</td>\n",
       "      <td>EXIT 2 - Directions</td>\n",
       "      <td>xropi,stev3ns</td>\n",
       "      <td>Casual, Indie</td>\n",
       "      <td>Indie, Casual, Puzzle, Singleplayer, Atmospher...</td>\n",
       "    </tr>\n",
       "  </tbody>\n",
       "</table>\n",
       "<p>27410 rows × 5 columns</p>\n",
       "</div>"
      ],
      "text/plain": [
       "      item_id                     title                 developer  \\\n",
       "0      761140       Lost Summoner Kitty                 Kotoshiro   \n",
       "1      643980                 Ironbound          Secret Level SRL   \n",
       "2      670290   Real Pool 3D - Poolians              Poolians.com   \n",
       "3      767400                   弹炸人2222                      彼岸领域   \n",
       "4      772540     Battle Royale Trainer       Trickjump Games Ltd   \n",
       "...       ...                       ...                       ...   \n",
       "27405  745400              Kebab it Up!           Bidoniera Games   \n",
       "27406  773640            Colony On Mars        Nikita \"Ghost_RUS\"   \n",
       "27407  733530  LOGistICAL: South Africa                    Sacada   \n",
       "27408  610660             Russian Roads  Laush Dmitriy Sergeevich   \n",
       "27409  658870       EXIT 2 - Directions             xropi,stev3ns   \n",
       "\n",
       "                                                genres  \\\n",
       "0          Action, Casual, Indie, Simulation, Strategy   \n",
       "1                   Free to Play, Indie, RPG, Strategy   \n",
       "2      Casual, Free to Play, Indie, Simulation, Sports   \n",
       "3                            Action, Adventure, Casual   \n",
       "4                        Action, Adventure, Simulation   \n",
       "...                                                ...   \n",
       "27405                 Action, Adventure, Casual, Indie   \n",
       "27406              Casual, Indie, Simulation, Strategy   \n",
       "27407                          Casual, Indie, Strategy   \n",
       "27408                        Indie, Racing, Simulation   \n",
       "27409                                    Casual, Indie   \n",
       "\n",
       "                                                    tags  \n",
       "0            Strategy, Action, Indie, Casual, Simulation  \n",
       "1      Free to Play, Strategy, Indie, RPG, Card Game,...  \n",
       "2      Free to Play, Simulation, Sports, Casual, Indi...  \n",
       "3                              Action, Adventure, Casual  \n",
       "4      Action, Adventure, Simulation, FPS, Shooter, T...  \n",
       "...                                                  ...  \n",
       "27405          Action, Indie, Casual, Violent, Adventure  \n",
       "27406                Strategy, Indie, Casual, Simulation  \n",
       "27407                            Strategy, Indie, Casual  \n",
       "27408                          Indie, Simulation, Racing  \n",
       "27409  Indie, Casual, Puzzle, Singleplayer, Atmospher...  \n",
       "\n",
       "[27410 rows x 5 columns]"
      ]
     },
     "execution_count": 380,
     "metadata": {},
     "output_type": "execute_result"
    }
   ],
   "source": [
    "df"
   ]
  },
  {
   "cell_type": "code",
   "execution_count": 381,
   "metadata": {},
   "outputs": [
    {
     "name": "stdout",
     "output_type": "stream",
     "text": [
      "<class 'pandas.core.frame.DataFrame'>\n",
      "RangeIndex: 27410 entries, 0 to 27409\n",
      "Data columns (total 5 columns):\n",
      " #   Column     Non-Null Count  Dtype \n",
      "---  ------     --------------  ----- \n",
      " 0   item_id    27410 non-null  object\n",
      " 1   title      27410 non-null  object\n",
      " 2   developer  27410 non-null  object\n",
      " 3   genres     27410 non-null  object\n",
      " 4   tags       27410 non-null  object\n",
      "dtypes: object(5)\n",
      "memory usage: 1.0+ MB\n"
     ]
    }
   ],
   "source": [
    "df.info()"
   ]
  },
  {
   "cell_type": "code",
   "execution_count": 5,
   "metadata": {},
   "outputs": [],
   "source": [
    "# Función para combinar géneros y etiquetas, eliminando duplicados.\n",
    "def combine_features(row):\n",
    "    genres_list = [genre.strip() for genre in row['genres'].split(',') if genre.strip()]\n",
    "    tags_list = [tag.strip() for tag in row['tags'].split(',') if tag.strip()]\n",
    "    combined_set = set(genres_list + tags_list)\n",
    "    return ', '.join(sorted(combined_set))\n",
    "\n",
    "df['features'] = df.apply(combine_features, axis=1)"
   ]
  },
  {
   "cell_type": "code",
   "execution_count": 6,
   "metadata": {},
   "outputs": [],
   "source": [
    "# Columnas innecesarias\n",
    "df.drop(['genres', 'tags', 'developer'], axis=1, inplace=True)"
   ]
  },
  {
   "cell_type": "code",
   "execution_count": 7,
   "metadata": {},
   "outputs": [
    {
     "data": {
      "text/html": [
       "<div>\n",
       "<style scoped>\n",
       "    .dataframe tbody tr th:only-of-type {\n",
       "        vertical-align: middle;\n",
       "    }\n",
       "\n",
       "    .dataframe tbody tr th {\n",
       "        vertical-align: top;\n",
       "    }\n",
       "\n",
       "    .dataframe thead th {\n",
       "        text-align: right;\n",
       "    }\n",
       "</style>\n",
       "<table border=\"1\" class=\"dataframe\">\n",
       "  <thead>\n",
       "    <tr style=\"text-align: right;\">\n",
       "      <th></th>\n",
       "      <th>item_id</th>\n",
       "      <th>title</th>\n",
       "      <th>features</th>\n",
       "    </tr>\n",
       "  </thead>\n",
       "  <tbody>\n",
       "    <tr>\n",
       "      <th>0</th>\n",
       "      <td>761140</td>\n",
       "      <td>Lost Summoner Kitty</td>\n",
       "      <td>Action, Casual, Indie, Simulation, Strategy</td>\n",
       "    </tr>\n",
       "    <tr>\n",
       "      <th>1</th>\n",
       "      <td>643980</td>\n",
       "      <td>Ironbound</td>\n",
       "      <td>2D, Board Game, Card Game, Character Customiza...</td>\n",
       "    </tr>\n",
       "    <tr>\n",
       "      <th>2</th>\n",
       "      <td>670290</td>\n",
       "      <td>Real Pool 3D - Poolians</td>\n",
       "      <td>Casual, Free to Play, Indie, Multiplayer, Simu...</td>\n",
       "    </tr>\n",
       "    <tr>\n",
       "      <th>3</th>\n",
       "      <td>767400</td>\n",
       "      <td>弹炸人2222</td>\n",
       "      <td>Action, Adventure, Casual</td>\n",
       "    </tr>\n",
       "    <tr>\n",
       "      <th>4</th>\n",
       "      <td>772540</td>\n",
       "      <td>Battle Royale Trainer</td>\n",
       "      <td>Action, Adventure, FPS, Shooter, Simulation, S...</td>\n",
       "    </tr>\n",
       "  </tbody>\n",
       "</table>\n",
       "</div>"
      ],
      "text/plain": [
       "  item_id                    title  \\\n",
       "0  761140      Lost Summoner Kitty   \n",
       "1  643980                Ironbound   \n",
       "2  670290  Real Pool 3D - Poolians   \n",
       "3  767400                  弹炸人2222   \n",
       "4  772540    Battle Royale Trainer   \n",
       "\n",
       "                                            features  \n",
       "0        Action, Casual, Indie, Simulation, Strategy  \n",
       "1  2D, Board Game, Card Game, Character Customiza...  \n",
       "2  Casual, Free to Play, Indie, Multiplayer, Simu...  \n",
       "3                          Action, Adventure, Casual  \n",
       "4  Action, Adventure, FPS, Shooter, Simulation, S...  "
      ]
     },
     "execution_count": 7,
     "metadata": {},
     "output_type": "execute_result"
    }
   ],
   "source": [
    "df.head()"
   ]
  },
  {
   "cell_type": "code",
   "execution_count": 8,
   "metadata": {},
   "outputs": [
    {
     "data": {
      "text/plain": [
       "(27410, 3)"
      ]
     },
     "execution_count": 8,
     "metadata": {},
     "output_type": "execute_result"
    }
   ],
   "source": [
    "df.shape"
   ]
  },
  {
   "cell_type": "code",
   "execution_count": 10,
   "metadata": {},
   "outputs": [],
   "source": [
    "# Eliminación de duplicados\n",
    "df.drop_duplicates(subset='title', keep='first', inplace=True)"
   ]
  },
  {
   "cell_type": "code",
   "execution_count": 11,
   "metadata": {},
   "outputs": [
    {
     "data": {
      "text/plain": [
       "0"
      ]
     },
     "execution_count": 11,
     "metadata": {},
     "output_type": "execute_result"
    }
   ],
   "source": [
    "df.duplicated().sum()"
   ]
  },
  {
   "cell_type": "code",
   "execution_count": 13,
   "metadata": {},
   "outputs": [],
   "source": [
    "# Guardamos el dataset en parquet con formato de compresión snappy para mayor velocidad de lectura.\n",
    "df.to_parquet('../Datasets/game_recommendation.parquet', compression='snappy', index=False)"
   ]
  }
 ],
 "metadata": {
  "kernelspec": {
   "display_name": "env",
   "language": "python",
   "name": "python3"
  },
  "language_info": {
   "codemirror_mode": {
    "name": "ipython",
    "version": 3
   },
   "file_extension": ".py",
   "mimetype": "text/x-python",
   "name": "python",
   "nbconvert_exporter": "python",
   "pygments_lexer": "ipython3",
   "version": "3.11.8"
  }
 },
 "nbformat": 4,
 "nbformat_minor": 2
}
